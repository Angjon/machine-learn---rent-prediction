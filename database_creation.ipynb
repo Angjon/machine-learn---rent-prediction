{
 "cells": [
  {
   "cell_type": "code",
   "execution_count": 1,
   "id": "a1025cfc",
   "metadata": {},
   "outputs": [],
   "source": [
    "import sqlite3"
   ]
  },
  {
   "cell_type": "code",
   "execution_count": 2,
   "id": "6531abb0",
   "metadata": {},
   "outputs": [],
   "source": [
    "conexao_banco = sqlite3.connect('database_API.db')"
   ]
  },
  {
   "cell_type": "code",
   "execution_count": 3,
   "id": "1c3e9b8c",
   "metadata": {},
   "outputs": [],
   "source": [
    "cursor = conexao_banco.cursor()"
   ]
  },
  {
   "cell_type": "code",
   "execution_count": 8,
   "id": "fc34ef25",
   "metadata": {},
   "outputs": [
    {
     "ename": "OperationalError",
     "evalue": "table Log_API already exists",
     "output_type": "error",
     "traceback": [
      "\u001b[1;31m---------------------------------------------------------------------------\u001b[0m",
      "\u001b[1;31mOperationalError\u001b[0m                          Traceback (most recent call last)",
      "Input \u001b[1;32mIn [8]\u001b[0m, in \u001b[0;36m<module>\u001b[1;34m\u001b[0m\n\u001b[0;32m      3\u001b[0m query \u001b[38;5;241m=\u001b[39m \u001b[38;5;124m'''\u001b[39m\n\u001b[0;32m      4\u001b[0m \u001b[38;5;124mCREATE TABLE Log_API (\u001b[39m\n\u001b[0;32m      5\u001b[0m \u001b[38;5;124m    id INTEGER NOT NULL PRIMARY KEY AUTOINCREMENT,\u001b[39m\n\u001b[1;32m   (...)\u001b[0m\n\u001b[0;32m     10\u001b[0m \u001b[38;5;124m)\u001b[39m\n\u001b[0;32m     11\u001b[0m \u001b[38;5;124m'''\u001b[39m\n\u001b[0;32m     14\u001b[0m \u001b[38;5;66;03m#executando a query\u001b[39;00m\n\u001b[1;32m---> 16\u001b[0m \u001b[43mcursor\u001b[49m\u001b[38;5;241;43m.\u001b[39;49m\u001b[43mexecute\u001b[49m\u001b[43m(\u001b[49m\u001b[43mquery\u001b[49m\u001b[43m)\u001b[49m\n",
      "\u001b[1;31mOperationalError\u001b[0m: table Log_API already exists"
     ]
    }
   ],
   "source": [
    "## query --> criar tab\n",
    "\n",
    "query = '''\n",
    "CREATE TABLE Log_API (\n",
    "    id INTEGER NOT NULL PRIMARY KEY AUTOINCREMENT,\n",
    "    Inputs TEXT,\n",
    "    Inicio TEXT,\n",
    "    Fim TEXTE,\n",
    "    Processamento TEXT\n",
    ")\n",
    "'''\n",
    "\n",
    "#executando a query\n",
    "\n",
    "cursor.execute(query)"
   ]
  },
  {
   "cell_type": "code",
   "execution_count": 14,
   "id": "fc5a3dd0",
   "metadata": {},
   "outputs": [],
   "source": [
    "# query inserir\n",
    "\n",
    "query_inserir = '''\n",
    "\n",
    "    INSERT INTO Log_API (Inputs, Inicio,Fim, Processamento)\n",
    "    Values ('1;2;3;3;6;5;8;999;55','01/01/2000 19:00:01','01/01/2000 19:00:02', '00:01')\n",
    "'''\n",
    "\n",
    "cursor.execute(query_inserir)\n",
    "\n",
    "\n",
    "conexao_banco.commit()"
   ]
  },
  {
   "cell_type": "code",
   "execution_count": 5,
   "id": "bb5e37c9",
   "metadata": {},
   "outputs": [
    {
     "data": {
      "text/plain": [
       "[(1,\n",
       "  '1;2;3;3;6;5;8;999;55',\n",
       "  '01/01/2000 19:00:01',\n",
       "  '01/01/2000 19:00:02',\n",
       "  '00:01'),\n",
       " (2,\n",
       "  '1;2;3;3;6;5;8;999;55',\n",
       "  '01/01/2000 19:00:01',\n",
       "  '01/01/2000 19:00:02',\n",
       "  '00:01'),\n",
       " (3,\n",
       "  ';1.0;2.0;3.0;3.0;6.0;5.0;8.0;999.0;55.0;[3092.50592861]',\n",
       "  '2022-12-13 10:37:19.268694',\n",
       "  '2022-12-13 10:37:19.278728',\n",
       "  '0:00:00.010034')]"
      ]
     },
     "execution_count": 5,
     "metadata": {},
     "output_type": "execute_result"
    }
   ],
   "source": [
    "#query consulta\n",
    "\n",
    "query_consulta = '''\n",
    "\n",
    "    SELECT * FROM Log_API\n",
    "    \n",
    "'''\n",
    "\n",
    "cursor.execute(query_consulta).fetchall()"
   ]
  },
  {
   "cell_type": "code",
   "execution_count": null,
   "id": "fa076e5b",
   "metadata": {},
   "outputs": [],
   "source": []
  }
 ],
 "metadata": {
  "kernelspec": {
   "display_name": "Python 3",
   "language": "python",
   "name": "python3"
  },
  "language_info": {
   "codemirror_mode": {
    "name": "ipython",
    "version": 3
   },
   "file_extension": ".py",
   "mimetype": "text/x-python",
   "name": "python",
   "nbconvert_exporter": "python",
   "pygments_lexer": "ipython3",
   "version": "3.10.1 (tags/v3.10.1:2cd268a, Dec  6 2021, 19:10:37) [MSC v.1929 64 bit (AMD64)]"
  },
  "vscode": {
   "interpreter": {
    "hash": "4e318637fd4827bd5d67f32eb37bb0619f36ee1c58d30a974ae2bb7a5490c585"
   }
  }
 },
 "nbformat": 4,
 "nbformat_minor": 5
}
