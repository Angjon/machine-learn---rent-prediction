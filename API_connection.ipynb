{
 "cells": [
  {
   "cell_type": "code",
   "execution_count": 30,
   "id": "98b6d74a",
   "metadata": {},
   "outputs": [],
   "source": [
    "import requests"
   ]
  },
  {
   "cell_type": "code",
   "execution_count": 31,
   "id": "1fc1c1ed",
   "metadata": {},
   "outputs": [],
   "source": [
    "# API URL adress\n",
    "url = 'http://127.0.0.1:5000/API_preditivo/3;4;2;1;4;1;1;233;333'"
   ]
  },
  {
   "cell_type": "code",
   "execution_count": 32,
   "id": "8e359a52",
   "metadata": {},
   "outputs": [
    {
     "data": {
      "text/plain": [
       "{'Rent price': '[4128.55035026]'}"
      ]
     },
     "execution_count": 32,
     "metadata": {},
     "output_type": "execute_result"
    }
   ],
   "source": [
    "# Acces connection\n",
    "consulta = requests.get(url)\n",
    "\n",
    "# Get info\n",
    "resposta = consulta.json()\n",
    "\n",
    "# Output\n",
    "resposta"
   ]
  },
  {
   "cell_type": "code",
   "execution_count": null,
   "id": "cef5f0e2",
   "metadata": {},
   "outputs": [],
   "source": []
  },
  {
   "cell_type": "code",
   "execution_count": null,
   "id": "8fc804b7",
   "metadata": {},
   "outputs": [],
   "source": []
  }
 ],
 "metadata": {
  "kernelspec": {
   "display_name": "Python 3 (ipykernel)",
   "language": "python",
   "name": "python3"
  },
  "language_info": {
   "codemirror_mode": {
    "name": "ipython",
    "version": 3
   },
   "file_extension": ".py",
   "mimetype": "text/x-python",
   "name": "python",
   "nbconvert_exporter": "python",
   "pygments_lexer": "ipython3",
   "version": "3.10.1"
  },
  "vscode": {
   "interpreter": {
    "hash": "cc5892536402321b4702691553e617085a4e619e745f2bbdc1555905d3e71a46"
   }
  }
 },
 "nbformat": 4,
 "nbformat_minor": 5
}
