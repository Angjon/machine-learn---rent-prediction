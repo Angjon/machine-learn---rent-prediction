{
 "cells": [
  {
   "cell_type": "code",
   "execution_count": 33,
   "id": "98b6d74a",
   "metadata": {},
   "outputs": [],
   "source": [
    "import requests"
   ]
  },
  {
   "cell_type": "code",
   "execution_count": 38,
   "id": "4a6455da",
   "metadata": {},
   "outputs": [],
   "source": [
    "# Parameters input -> follow order [area;rooms;bathroom;parking_spaces;floor;animal (1 yes/ 0 no); furniture (1 yes/ 0 no);hoa;\n",
    "#property_tax]\n",
    "list = [320,4,4,0,20,1,0,1200,1750]"
   ]
  },
  {
   "cell_type": "code",
   "execution_count": 49,
   "id": "1fc1c1ed",
   "metadata": {},
   "outputs": [],
   "source": [
    "# API URL adress\n",
    "url = 'http://127.0.0.1:5000/API_preditivo/'f\"{list[0]};{list[1]};{list[2]};{list[3]};{list[4]};{list[5]};{list[6]};{list[7]};{list[8]}\""
   ]
  },
  {
   "cell_type": "code",
   "execution_count": 51,
   "id": "8e359a52",
   "metadata": {},
   "outputs": [
    {
     "data": {
      "text/plain": [
       "{'Rent price R$': '[9561.22512387]'}"
      ]
     },
     "execution_count": 51,
     "metadata": {},
     "output_type": "execute_result"
    }
   ],
   "source": [
    "# Acces connection\n",
    "consulta = requests.get(url)\n",
    "\n",
    "# Get info\n",
    "resposta = consulta.json()\n",
    "\n",
    "# Output\n",
    "resposta"
   ]
  }
 ],
 "metadata": {
  "kernelspec": {
   "display_name": "Python 3 (ipykernel)",
   "language": "python",
   "name": "python3"
  },
  "language_info": {
   "codemirror_mode": {
    "name": "ipython",
    "version": 3
   },
   "file_extension": ".py",
   "mimetype": "text/x-python",
   "name": "python",
   "nbconvert_exporter": "python",
   "pygments_lexer": "ipython3",
   "version": "3.10.1"
  },
  "vscode": {
   "interpreter": {
    "hash": "cc5892536402321b4702691553e617085a4e619e745f2bbdc1555905d3e71a46"
   }
  }
 },
 "nbformat": 4,
 "nbformat_minor": 5
}
